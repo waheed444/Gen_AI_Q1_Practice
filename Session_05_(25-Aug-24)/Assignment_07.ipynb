{
 "cells": [
  {
   "cell_type": "code",
   "execution_count": 6,
   "metadata": {},
   "outputs": [
    {
     "name": "stdout",
     "output_type": "stream",
     "text": [
      "\n",
      "Hello, Waheed Ahmad! Let's explore your favorite numbers:\n"
     ]
    }
   ],
   "source": [
    "# Get user's name\n",
    "name = input(\"Enter your name: \")\n",
    "# Get the three favorite numbers one by one from the user\n",
    "num1 = int(input(\"Enter your 1st favorite number: \"))\n",
    "num2 = int(input(\"Enter your 2nd favorite number: \"))\n",
    "num3 = int(input(\"Enter your 3rd favorite number: \"))\n",
    "# Get the name from the user\n",
    "print(f\"\\nHello, {name}! Let's explore your favorite numbers:\")"
   ]
  },
  {
   "cell_type": "code",
   "execution_count": 7,
   "metadata": {},
   "outputs": [
    {
     "name": "stdout",
     "output_type": "stream",
     "text": [
      "The number 2 is even.\n",
      "The number 5 is odd.\n",
      "The number 6 is even.\n"
     ]
    }
   ],
   "source": [
    "# Check if the first number is even or odd\n",
    "if num1 % 2 == 0:\n",
    "    print(f\"The number {num1} is even.\")\n",
    "else:\n",
    "    print(f\"The number {num1} is odd.\")\n",
    "\n",
    "# Check if the second number is even or odd\n",
    "if num2 % 2 == 0:\n",
    "    print(f\"The number {num2} is even.\")\n",
    "else:\n",
    "    print(f\"The number {num2} is odd.\")\n",
    "\n",
    "# Check if the third number is even or odd\n",
    "if num3 % 2 == 0:\n",
    "    print(f\"The number {num3} is even.\")\n",
    "else:\n",
    "    print(f\"The number {num3} is odd.\")\n"
   ]
  },
  {
   "cell_type": "code",
   "execution_count": 8,
   "metadata": {},
   "outputs": [
    {
     "name": "stdout",
     "output_type": "stream",
     "text": [
      "The number 2 and its square: (2, 4)\n",
      "The number 5 and its square: (5, 25)\n",
      "The number 6 and its square: (6, 36)\n"
     ]
    }
   ],
   "source": [
    "# Print the number and its square for the first number\n",
    "print(f\"The number {num1} and its square: ({num1}, {num1 ** 2})\")\n",
    "\n",
    "# Print the number and its square for the second number\n",
    "print(f\"The number {num2} and its square: ({num2}, {num2 ** 2})\")\n",
    "\n",
    "# Print the number and its square for the third number\n",
    "print(f\"The number {num3} and its square: ({num3}, {num3 ** 2})\")\n"
   ]
  },
  {
   "cell_type": "code",
   "execution_count": 9,
   "metadata": {},
   "outputs": [
    {
     "name": "stdout",
     "output_type": "stream",
     "text": [
      "\n",
      "Amazing! The sum of your favorite numbers is: 13\n"
     ]
    }
   ],
   "source": [
    "# Calculate the sum of the numbers\n",
    "total_sum = num1 + num2 + num3\n",
    "print(f\"\\nAmazing! The sum of your favorite numbers is: {total_sum}\")\n"
   ]
  },
  {
   "cell_type": "code",
   "execution_count": 10,
   "metadata": {},
   "outputs": [
    {
     "name": "stdout",
     "output_type": "stream",
     "text": [
      "Wow, 13 is a prime number!\n"
     ]
    }
   ],
   "source": [
    "# Print if the sum is a prime number\n",
    "if total_sum < 2:\n",
    "    is_prime = False\n",
    "elif total_sum == 2:\n",
    "    is_prime = True\n",
    "elif total_sum % 2 == 0:\n",
    "    is_prime = False\n",
    "else:\n",
    "    is_prime = True\n",
    "    i = 3\n",
    "# using while loop     \n",
    "    while i * i <= total_sum:    \n",
    "        if total_sum % i == 0:\n",
    "            is_prime = False\n",
    "            break\n",
    "        i += 2\n",
    "if is_prime:\n",
    "    print(f\"Wow, {total_sum} is a prime number!\")\n",
    "else:\n",
    "    print(f\"{total_sum} is not a prime number!\")\n"
   ]
  }
 ],
 "metadata": {
  "kernelspec": {
   "display_name": "Python 3",
   "language": "python",
   "name": "python3"
  },
  "language_info": {
   "codemirror_mode": {
    "name": "ipython",
    "version": 3
   },
   "file_extension": ".py",
   "mimetype": "text/x-python",
   "name": "python",
   "nbconvert_exporter": "python",
   "pygments_lexer": "ipython3",
   "version": "3.12.4"
  }
 },
 "nbformat": 4,
 "nbformat_minor": 2
}
