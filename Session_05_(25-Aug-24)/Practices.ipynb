{
 "cells": [
  {
   "cell_type": "code",
   "execution_count": null,
   "metadata": {},
   "outputs": [
    {
     "name": "stdout",
     "output_type": "stream",
     "text": [
      "The sum of is : 55\n"
     ]
    }
   ],
   "source": [
    "# Question no 01 add two numbers getting value input from the use \n",
    "num1= int(input(\"Enter your 1st number here :\"))\n",
    "num2= int(input(\"Enter your 2nd number here :\"))\n",
    "sum = num1 + num2\n",
    "sum = print(f'The sum of is :',sum)\n"
   ]
  },
  {
   "cell_type": "code",
   "execution_count": null,
   "metadata": {},
   "outputs": [
    {
     "name": "stdout",
     "output_type": "stream",
     "text": [
      "My favorite animal is also  cat !\n"
     ]
    }
   ],
   "source": [
    "# Question no 02 Agreement Boot\n",
    "fav_animal = input(\"What's your favorite animal?\")\n",
    "print(\"My favorite animal is also \",fav_animal,'!')\n",
    "\n",
    "\n"
   ]
  },
  {
   "cell_type": "code",
   "execution_count": 2,
   "metadata": {},
   "outputs": [
    {
     "name": "stdout",
     "output_type": "stream",
     "text": [
      "Temperature is: 76.0°F = 24.444444444444443°C\n"
     ]
    }
   ],
   "source": [
    "# Question no 03 Fahrenheit to Celsius\n",
    "degrees_fahrenheit=float(input(\"Enter temperature in Fahrenheit:\"))\n",
    "degrees_celsius = (degrees_fahrenheit - 32) * 5.0/9.0\n",
    "print(f'Temperature is: {degrees_fahrenheit}°F = {degrees_celsius}°C')"
   ]
  },
  {
   "cell_type": "code",
   "execution_count": 5,
   "metadata": {},
   "outputs": [
    {
     "name": "stdout",
     "output_type": "stream",
     "text": [
      "The perimeter of the triangle is: 12.5\n"
     ]
    }
   ],
   "source": [
    "# Question no 04 Triangle Perimeters\n",
    "triangle_Side1=float(input(\"What is the length of side 1?\"))\n",
    "triangle_Side2=float(input(\"What is the length of side 2?\"))\n",
    "triangle_Side3=float(input(\"What is the length of side 3?\"))\n",
    "perimeter = triangle_Side1+triangle_Side2+triangle_Side3\n",
    "print(f'The perimeter of the triangle is:',perimeter)\n"
   ]
  },
  {
   "cell_type": "code",
   "execution_count": 6,
   "metadata": {},
   "outputs": [
    {
     "name": "stdout",
     "output_type": "stream",
     "text": [
      "4.0 squared is 16.0\n"
     ]
    }
   ],
   "source": [
    "# Question no 05 Square Number\n",
    "num = float(input(\"Type a number to see its square: \"))\n",
    "sqr = num**2\n",
    "print(f'{num} squared is {sqr}')\n"
   ]
  },
  {
   "cell_type": "code",
   "execution_count": 11,
   "metadata": {},
   "outputs": [
    {
     "name": "stdout",
     "output_type": "stream",
     "text": [
      "[1, 2, 4]\n"
     ]
    }
   ],
   "source": [
    "# Question no 06 Delete a number\n",
    "list = [1,2,3,4]\n",
    "list.remove(3)\n",
    "print(list)"
   ]
  },
  {
   "cell_type": "code",
   "execution_count": 13,
   "metadata": {},
   "outputs": [
    {
     "name": "stdout",
     "output_type": "stream",
     "text": [
      "[1, 2, 3, 4, 5, 6]\n"
     ]
    }
   ],
   "source": [
    "# Question no 07 Creating a list\n",
    "list1 = [1,2,3]\n",
    "list2 = [4,5,6]\n",
    "list1.extend(list2)\n",
    "print(list1)"
   ]
  },
  {
   "cell_type": "code",
   "execution_count": null,
   "metadata": {},
   "outputs": [],
   "source": [
    "# Question no 08 Pop method\n"
   ]
  }
 ],
 "metadata": {
  "kernelspec": {
   "display_name": "Python 3",
   "language": "python",
   "name": "python3"
  },
  "language_info": {
   "codemirror_mode": {
    "name": "ipython",
    "version": 3
   },
   "file_extension": ".py",
   "mimetype": "text/x-python",
   "name": "python",
   "nbconvert_exporter": "python",
   "pygments_lexer": "ipython3",
   "version": "3.12.4"
  }
 },
 "nbformat": 4,
 "nbformat_minor": 2
}
