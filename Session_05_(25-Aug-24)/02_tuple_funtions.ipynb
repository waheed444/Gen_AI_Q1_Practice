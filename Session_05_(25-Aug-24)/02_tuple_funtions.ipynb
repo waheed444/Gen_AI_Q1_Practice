{
 "cells": [
  {
   "cell_type": "code",
   "execution_count": 1,
   "metadata": {},
   "outputs": [
    {
     "name": "stdout",
     "output_type": "stream",
     "text": [
      "('ali', 'waheed', 'Hamza', 'Ahamd')\n"
     ]
    }
   ],
   "source": [
    "name=(\"ali\",\"waheed\",\"Hamza\",\"Hussnain\")\n",
    "#convert tuple into list\n",
    "temp=list(name)   #temp keyword is used to convert tuple into the list\n",
    "#add ahmad into the list\n",
    "temp.append(\"Ahamd\")     \n",
    "#specify the place (index)\n",
    "temp.pop(3)   #pop is used to add something in the specific index in the list(conveted to tuple)\n",
    "#reconvert list into tuple\n",
    "name=tuple(temp)\n",
    "#print tuple\n",
    "print(name)"
   ]
  },
  {
   "cell_type": "code",
   "execution_count": null,
   "metadata": {},
   "outputs": [],
   "source": [
    "#tuple 1\n",
    "countries = (\"Pakistan\", \"Afghanistan\", \"Bangladesh\", \"SriLanka\")\n",
    "#tuple 2\n",
    "countries2 = (\"Vietnam\", \"India\", \"China\")\n",
    "# new tuple = tuple 1 + tuple 2\n",
    "southEastAsia = countries + countries2\n",
    "print(southEastAsia)\n"
   ]
  },
  {
   "cell_type": "code",
   "execution_count": 2,
   "metadata": {},
   "outputs": [
    {
     "name": "stdout",
     "output_type": "stream",
     "text": [
      "the occurance of 1 is  : 4\n"
     ]
    }
   ],
   "source": [
    "# count method()\n",
    "num=(1,3,1,30,1,10,9,13,135,130,13,1)\n",
    "print('The occurance of 1 is  :',num.count(1))  \n"
   ]
  }
 ],
 "metadata": {
  "kernelspec": {
   "display_name": "Python 3",
   "language": "python",
   "name": "python3"
  },
  "language_info": {
   "codemirror_mode": {
    "name": "ipython",
    "version": 3
   },
   "file_extension": ".py",
   "mimetype": "text/x-python",
   "name": "python",
   "nbconvert_exporter": "python",
   "pygments_lexer": "ipython3",
   "version": "3.12.4"
  }
 },
 "nbformat": 4,
 "nbformat_minor": 2
}
