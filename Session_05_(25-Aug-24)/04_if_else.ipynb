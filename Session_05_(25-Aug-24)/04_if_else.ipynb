{
 "cells": [
  {
   "cell_type": "code",
   "execution_count": 1,
   "metadata": {},
   "outputs": [
    {
     "name": "stdout",
     "output_type": "stream",
     "text": [
      "You number is   :  45\n",
      "You are passed\n"
     ]
    }
   ],
   "source": [
    " # If-Else Conditions \n",
    " \n",
    "marks = int(input(\"Enter your age here :\"))       #take  input in  int data-type\n",
    "print(\"You number is   : \",marks)                 #display the msg on screen stored in 'marls'\n",
    "if marks >=33:                                    # 'marks>=33'  is condition \n",
    "    print(\"You are passed\")                       # if condition is true then print passed\n",
    "else:                                           \n",
    "      print(\"You are failed\")                     # if condition is false then print failed\n"
   ]
  },
  {
   "cell_type": "code",
   "execution_count": 5,
   "metadata": {},
   "outputs": [
    {
     "name": "stdout",
     "output_type": "stream",
     "text": [
      "Cold day\n"
     ]
    }
   ],
   "source": [
    "# Multiple if - else conditions\n",
    "temp = float(input(\"Enter your age here : \"))\n",
    "if temp >= 40:\n",
    "    print (\"Today's hot day\")\n",
    "elif temp >=20 and temp <=35:\n",
    "    print(\"Today's pleasant day\")\n",
    "else:\n",
    "    print(\"Today's Cold day\")\n",
    "          "
   ]
  },
  {
   "cell_type": "code",
   "execution_count": null,
   "metadata": {},
   "outputs": [],
   "source": [
    "#WAP to find the Grade students based on marks\n",
    "\n",
    "marks=int(input(\"Enter the marks of the students:\"))\n",
    "print(\"Your marks out of 100 is \",marks)\n",
    "if(marks>100):\n",
    "    print(\"Error!\\nPlease enter marks bw 1 to 100\")\n",
    "elif(marks>=90):\n",
    "    print(\"grade=A\")\n",
    "elif(marks>=80):\n",
    "    print(\"grade=B\")\n",
    "elif(marks>=70):\n",
    "    print(\"grade=C\")\n",
    "elif(marks>60):\n",
    "    print(\"grade=D\")\n",
    "else:\n",
    "    print(\"Invalid\")"
   ]
  }
 ],
 "metadata": {
  "kernelspec": {
   "display_name": "Python 3",
   "language": "python",
   "name": "python3"
  },
  "language_info": {
   "codemirror_mode": {
    "name": "ipython",
    "version": 3
   },
   "file_extension": ".py",
   "mimetype": "text/x-python",
   "name": "python",
   "nbconvert_exporter": "python",
   "pygments_lexer": "ipython3",
   "version": "3.12.4"
  }
 },
 "nbformat": 4,
 "nbformat_minor": 2
}
