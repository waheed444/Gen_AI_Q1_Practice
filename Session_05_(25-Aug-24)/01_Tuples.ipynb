{
 "cells": [
  {
   "cell_type": "code",
   "execution_count": 2,
   "metadata": {},
   "outputs": [
    {
     "name": "stdout",
     "output_type": "stream",
     "text": [
      "('apple', 'banana', 'grapes', 'melon')\n",
      "('apple', 'banana', 'grapes', 'melon')\n"
     ]
    },
    {
     "data": {
      "text/plain": [
       "False"
      ]
     },
     "execution_count": 2,
     "metadata": {},
     "output_type": "execute_result"
    }
   ],
   "source": [
    "# Python Tuples\n",
    "# Tuples are ordered collection of data items. \n",
    "# They store multiple items in a single variable. \n",
    "# Tuple items are separated by commas and enclosed within round brackets (). \n",
    "# Tuples are unchangeable meaning we can not alter them after creation like lists\n",
    "fruits = ('apple','banana','grapes','melon')\n",
    "print(fruits)\n",
    "'apple' in fruits   # true (apple is exist in the tuple)\n"
   ]
  },
  {
   "cell_type": "code",
   "execution_count": 4,
   "metadata": {},
   "outputs": [
    {
     "name": "stdout",
     "output_type": "stream",
     "text": [
      "Tupe of tuple is : <class 'tuple'>\n",
      "lenth of tuple is : 4\n"
     ]
    }
   ],
   "source": [
    "print('Tupe of tuple is :', type(fruits))\n",
    "print('lenth of tuple is :', len(fruits))\n"
   ]
  },
  {
   "cell_type": "code",
   "execution_count": 5,
   "metadata": {},
   "outputs": [
    {
     "name": "stdout",
     "output_type": "stream",
     "text": [
      "apple\n",
      "banana\n",
      "grapes\n",
      "melon\n"
     ]
    }
   ],
   "source": [
    "#Tuple indexing :\n",
    "print(fruits[0])\n",
    "print(fruits[1])\n",
    "print(fruits[2])\n",
    "print(fruits[3])"
   ]
  },
  {
   "cell_type": "code",
   "execution_count": 6,
   "metadata": {},
   "outputs": [
    {
     "name": "stdout",
     "output_type": "stream",
     "text": [
      "umar\n",
      "ahmad\n"
     ]
    }
   ],
   "source": [
    "#negative Index\n",
    "# The last item has index [-1]\n",
    "# second last item has index [-2]\n",
    "# third last item has index [-3] and so on.\n",
    "name=(\"ali\",\"waheed\",\"ahmad\",\"umar\")\n",
    "print(name[-1])\n",
    "print(name[-2])\n",
    "\n"
   ]
  },
  {
   "cell_type": "code",
   "execution_count": 7,
   "metadata": {},
   "outputs": [
    {
     "name": "stdout",
     "output_type": "stream",
     "text": [
      "[2]\n",
      "<class 'list'>\n",
      "2\n",
      "<class 'int'>\n",
      "(2,)\n",
      "<class 'tuple'>\n"
     ]
    }
   ],
   "source": [
    "# Access only one single element in list:\n",
    "li = [2]\n",
    "print(li)\n",
    "print(type(li))    # type is 'list' when print single elment in list\n",
    " \n",
    "# Access only one single element in tuple:\n",
    "tup = (2)\n",
    "print(tup)\n",
    "print(type(tup))   # type is 'int' when print single element in tuple\\\n",
    "    \n",
    "\n",
    "# we use (single_element,) to access only one single element in tuple:\n",
    "tup = (2,)   #use ',' to print tuple\n",
    "print(tup)\n",
    "print(type(tup))   # type is 'tuple' when print single element in tuple    "
   ]
  },
  {
   "cell_type": "code",
   "execution_count": 8,
   "metadata": {},
   "outputs": [
    {
     "name": "stdout",
     "output_type": "stream",
     "text": [
      "1\n"
     ]
    }
   ],
   "source": [
    "\n",
    "#index() method\n",
    "num1=(1,3,1,3,1,10,9,13,135,130,13,1)\n",
    "#first occurence of 3 is on the 1 index \n",
    "print(num1.index(3))"
   ]
  }
 ],
 "metadata": {
  "kernelspec": {
   "display_name": "Python 3",
   "language": "python",
   "name": "python3"
  },
  "language_info": {
   "codemirror_mode": {
    "name": "ipython",
    "version": 3
   },
   "file_extension": ".py",
   "mimetype": "text/x-python",
   "name": "python",
   "nbconvert_exporter": "python",
   "pygments_lexer": "ipython3",
   "version": "3.12.4"
  }
 },
 "nbformat": 4,
 "nbformat_minor": 2
}
