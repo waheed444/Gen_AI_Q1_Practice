{
 "cells": [
  {
   "cell_type": "code",
   "execution_count": 1,
   "metadata": {},
   "outputs": [
    {
     "name": "stdout",
     "output_type": "stream",
     "text": [
      "waheed \n",
      "ahmad\n",
      "naveed\n"
     ]
    }
   ],
   "source": [
    "#input method\n",
    "# to take  input is  python we use input tag \n",
    "\n",
    "x = input(\"Enter your first number  :\")\n",
    "y = input(\"Enter your second number  :\")\n",
    "z = input(\"Enter your thrid number  :\")\n",
    "\n",
    "#By default string data type is being used by input tag in python\n",
    "print(x)\n",
    "print(y)\n",
    "print(z)\n"
   ]
  }
 ],
 "metadata": {
  "kernelspec": {
   "display_name": "Python 3",
   "language": "python",
   "name": "python3"
  },
  "language_info": {
   "codemirror_mode": {
    "name": "ipython",
    "version": 3
   },
   "file_extension": ".py",
   "mimetype": "text/x-python",
   "name": "python",
   "nbconvert_exporter": "python",
   "pygments_lexer": "ipython3",
   "version": "3.12.4"
  }
 },
 "nbformat": 4,
 "nbformat_minor": 2
}
