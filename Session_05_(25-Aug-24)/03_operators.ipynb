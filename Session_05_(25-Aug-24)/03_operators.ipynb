{
 "cells": [
  {
   "cell_type": "code",
   "execution_count": 1,
   "metadata": {},
   "outputs": [
    {
     "name": "stdout",
     "output_type": "stream",
     "text": [
      "8\n",
      "2\n",
      "15\n",
      "1.6666666666666667\n",
      "2\n",
      "125\n",
      "1\n"
     ]
    }
   ],
   "source": [
    "# # There are many types of operators in the python used to perform specific taks\n",
    "# Operators must have two value that values are called as operands \n",
    "a=5\n",
    "b=3\n",
    "# Arithmatic Operators\n",
    "print(a+b)     #addition\n",
    "print(a-b)     #subtraction\n",
    "print(a*b)     #multiplication\n",
    "print(a/b)     #division\n",
    "print(a%b)     #modolus (gives reminder)\n",
    "print(a**b)     #Exponentional (5*5*5)\n",
    "print(a//b)    #Floor Divison (rounds the result to the nearst whole number)\n",
    "\n"
   ]
  },
  {
   "cell_type": "code",
   "execution_count": 2,
   "metadata": {},
   "outputs": [
    {
     "name": "stdout",
     "output_type": "stream",
     "text": [
      "False\n",
      "True\n",
      "False\n",
      "True\n",
      "False\n",
      "True\n"
     ]
    }
   ],
   "source": [
    "# Relational/Compaerision Operators\n",
    "\n",
    "print(a<b)    #5<3 False\n",
    "print(a>b)    #5>3 True\n",
    "print(a==b)   #5=3 False\n",
    "print(a!=b)   #5 not equal to 3 True\n",
    "print(a<=b)   #5<=3 false\n",
    "print(a>=b)   #5>=3 True\n"
   ]
  },
  {
   "cell_type": "code",
   "execution_count": 3,
   "metadata": {},
   "outputs": [
    {
     "name": "stdout",
     "output_type": "stream",
     "text": [
      "10\n",
      "20\n",
      "10\n",
      "100\n",
      "10.0\n",
      "0.0\n",
      "0.0\n"
     ]
    }
   ],
   "source": [
    "# Assignment Operators\n",
    "num=10\n",
    "print(num)    #10\n",
    "num +=10     \n",
    "print(num)   #10+10=20\n",
    "num -=10\n",
    "print(num)   #20-10=10\n",
    "num *=10\n",
    "print(num)   #10*10=100\n",
    "num /=10\n",
    "print(num)    #100/10=10\n",
    "num %=10\n",
    "print(num)    #10/0=0\n",
    "num **=10     \n",
    "print(num)     #0*0=0\n"
   ]
  },
  {
   "cell_type": "code",
   "execution_count": 4,
   "metadata": {},
   "outputs": [
    {
     "name": "stdout",
     "output_type": "stream",
     "text": [
      "True\n",
      "False\n",
      "AND Operator is : False\n",
      "OR Operator is : True\n"
     ]
    }
   ],
   "source": [
    "#Logical Operator:\n",
    "\n",
    "#and Opeartor\n",
    "val1=True\n",
    "val2=False\n",
    "print(\"AND Operator is :\",val1 and val2)        #if both is true then true otherwise false\n",
    "\n",
    "#Or Operator\n",
    "print(\"OR Operator is :\",val1 or val2)          #if both is false then false otherwise true\n",
    "\n",
    "#not Operator\n",
    "a=50\n",
    "b=30\n",
    "print(not False)\n",
    "print(not (a>b))    #not(!) make true to false and false to true\n"
   ]
  }
 ],
 "metadata": {
  "kernelspec": {
   "display_name": "Python 3",
   "language": "python",
   "name": "python3"
  },
  "language_info": {
   "codemirror_mode": {
    "name": "ipython",
    "version": 3
   },
   "file_extension": ".py",
   "mimetype": "text/x-python",
   "name": "python",
   "nbconvert_exporter": "python",
   "pygments_lexer": "ipython3",
   "version": "3.12.4"
  }
 },
 "nbformat": 4,
 "nbformat_minor": 2
}
