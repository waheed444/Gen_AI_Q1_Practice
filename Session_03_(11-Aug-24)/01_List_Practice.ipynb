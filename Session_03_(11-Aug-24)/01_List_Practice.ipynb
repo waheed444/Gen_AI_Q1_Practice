{
 "cells": [
  {
   "cell_type": "code",
   "execution_count": 11,
   "metadata": {},
   "outputs": [
    {
     "name": "stdout",
     "output_type": "stream",
     "text": [
      "waheed\n",
      "ali\n",
      "ahmad\n",
      "amir\n"
     ]
    }
   ],
   "source": [
    "# Excersie # 3-1 Names:\n",
    "names = ['waheed','ali','ahmad','amir']\n",
    "print(names[0])\n",
    "print(names[1])\n",
    "print(names[2])\n",
    "print(names[3])\n"
   ]
  },
  {
   "cell_type": "code",
   "execution_count": 12,
   "metadata": {},
   "outputs": [
    {
     "name": "stdout",
     "output_type": "stream",
     "text": [
      "waheed Hello! How are you? \n",
      "ali Hello! How are you? \n",
      "ahmad Hello! How are you? \n",
      "amir Hello! How are you? \n"
     ]
    }
   ],
   "source": [
    "# Excersie # 3-2 Greetings:\n",
    "msg = 'Hello! How are you?'\n",
    "print(f'{names[0]} {msg} ')\n",
    "print(f'{names[1]} {msg} ')\n",
    "print(f'{names[2]} {msg} ')\n",
    "print(f'{names[3]} {msg} ')"
   ]
  },
  {
   "cell_type": "code",
   "execution_count": 13,
   "metadata": {},
   "outputs": [
    {
     "name": "stdout",
     "output_type": "stream",
     "text": [
      "I want to buy RBR\n",
      "I want to buy Suzuki\n",
      "I want to buy Honda\n"
     ]
    }
   ],
   "source": [
    "# Excersie # 3-3 Your Own List:\n",
    "Fav_bikes = ['I want to buy RBR','I want to buy Suzuki','I want to buy Honda']\n",
    "for elements in Fav_bikes:\n",
    "    print (elements)"
   ]
  },
  {
   "cell_type": "code",
   "execution_count": 14,
   "metadata": {},
   "outputs": [
    {
     "name": "stdout",
     "output_type": "stream",
     "text": [
      "Dear \"waheed\" , I want to invite you in dinner today\n",
      "Dear \"ali\" , I want to invite you in dinner today\n",
      "Dear \"ahmad\" , I want to invite you in dinner today\n",
      "Dear \"amir\" , I want to invite you in dinner today\n"
     ]
    }
   ],
   "source": [
    "# Excersie # 3-4 Gust List:\n",
    "guests = ['waheed','ali','ahmad','amir']\n",
    "message = \"I want to invite you in dinner today\"\n",
    "for names in guests:\n",
    "    print(f'Dear \\\"{names}\\\" , {message}')"
   ]
  },
  {
   "cell_type": "code",
   "execution_count": 15,
   "metadata": {},
   "outputs": [
    {
     "name": "stdout",
     "output_type": "stream",
     "text": [
      "Oh, Dear ali cant make it to dinner\n",
      "Dear \"waheed\" , I want to invite you in dinner today\n",
      "Dear \"Hassan Ali\" , I want to invite you in dinner today\n",
      "Dear \"ahmad\" , I want to invite you in dinner today\n",
      "Dear \"amir\" , I want to invite you in dinner today\n"
     ]
    }
   ],
   "source": [
    "# Excersie # 3-5 Changing Guest List\n",
    "print(f'Oh, Dear {guests[1]} cant make it to dinner')\n",
    "guests[1] = 'Hassan Ali'\n",
    "for names in guests:\n",
    "    print(f'Dear \\\"{names}\\\" , {message}')"
   ]
  },
  {
   "cell_type": "code",
   "execution_count": 16,
   "metadata": {},
   "outputs": [
    {
     "name": "stdout",
     "output_type": "stream",
     "text": [
      "Dear \"Ahad\" , I want to invite you in dinner today\n",
      "Dear \"waheed\" , I want to invite you in dinner today\n",
      "Dear \"Zain\" , I want to invite you in dinner today\n",
      "Dear \"Hassan Ali\" , I want to invite you in dinner today\n",
      "Dear \"ahmad\" , I want to invite you in dinner today\n",
      "Dear \"amir\" , I want to invite you in dinner today\n",
      "Dear \"hassan\" , I want to invite you in dinner today\n"
     ]
    }
   ],
   "source": [
    "# Excersie # 3-6 More Guest\n",
    "guests.insert(0,'Ahad')\n",
    "guests.insert(2,'Zain')\n",
    "guests.append('hassan')\n",
    "for names in guests:\n",
    "    print(f'Dear \\\"{names}\\\" , {message}')"
   ]
  },
  {
   "cell_type": "code",
   "execution_count": 17,
   "metadata": {},
   "outputs": [
    {
     "name": "stdout",
     "output_type": "stream",
     "text": [
      "['waheed', 'ali']\n",
      "---------------------------------------\n"
     ]
    }
   ],
   "source": [
    "# Excersie # 3-7 Shrinking Guest List:  \n",
    "my_list = ['waheed', 'ali', 'ahmad', 'amir']\n",
    "\n",
    "del my_list[2:4]  # Removes elements at index 2 and 3\n",
    "print(my_list)  # Output: ['waheed', 'ali']\n",
    "print(\"---------------------------------------\") "
   ]
  },
  {
   "cell_type": "code",
   "execution_count": 18,
   "metadata": {},
   "outputs": [
    {
     "name": "stdout",
     "output_type": "stream",
     "text": [
      "Original list: ['pakistan', 'UK', 'UAE', 'USA', 'China']\n",
      "\n",
      "List in alphabetical order (using sorted()):\n",
      "['China', 'UAE', 'UK', 'USA', 'pakistan']\n",
      "\n",
      "List after sorted(), still in original order:\n",
      "['pakistan', 'UK', 'UAE', 'USA', 'China']\n",
      "\n",
      "List in reverse-alphabetical order (using sorted()):\n",
      "['pakistan', 'USA', 'UK', 'UAE', 'China']\n",
      "\n",
      "List after reverse-sorted(), still in original order:\n",
      "['pakistan', 'UK', 'UAE', 'USA', 'China']\n",
      "\n",
      "List after reverse():\n",
      "['China', 'USA', 'UAE', 'UK', 'pakistan']\n",
      "\n",
      "List after reverse() again to restore original order:\n",
      "['pakistan', 'UK', 'UAE', 'USA', 'China']\n",
      "\n",
      "List after sort() in alphabetical order:\n",
      "['China', 'UAE', 'UK', 'USA', 'pakistan']\n",
      "\n",
      "List after sort() in reverse-alphabetical order:\n",
      "['pakistan', 'USA', 'UK', 'UAE', 'China']\n"
     ]
    }
   ],
   "source": [
    "# Excersie # 3-8 Seeing the World:\n",
    "places_to_visit = [\"pakistan\", \"UK\", \"UAE\", \"USA\", \"China\"]\n",
    "print(\"Original list:\",places_to_visit)                       # Print the list   \n",
    "print(\"\\nList in alphabetical order (using sorted()):\")       # Use sorted()\n",
    "print(sorted(places_to_visit))\n",
    "print(\"\\nList after sorted(), still in original order:\")     # Still in its original order\n",
    "print(places_to_visit)\n",
    "print(\"\\nList in reverse-alphabetical order (using sorted()):\") # Use sorted() to print the list in reverse-alphabetical \n",
    "print(sorted(places_to_visit, reverse=True))\n",
    "print(\"\\nList after reverse-sorted(), still in original order:\") # Still in its original order\n",
    "print(places_to_visit)\n",
    "places_to_visit.reverse()                   #  Use reverse()\n",
    "print(\"\\nList after reverse():\")\n",
    "print(places_to_visit)\n",
    "places_to_visit.reverse()        #  Use reverse() to change the order of the list \n",
    "print(\"\\nList after reverse() again to restore original order:\")\n",
    "print(places_to_visit)\n",
    "places_to_visit.sort()          #  Use sort() to change the list so it’s stored in alphabetical order\n",
    "print(\"\\nList after sort() in alphabetical order:\")\n",
    "print(places_to_visit)\n",
    "places_to_visit.sort(reverse=True) #  Use sort() to change the list so it’s stored in reverse-alphabetical order\n",
    "print(\"\\nList after sort() in reverse-alphabetical order:\")\n",
    "print(places_to_visit)"
   ]
  },
  {
   "cell_type": "code",
   "execution_count": 19,
   "metadata": {},
   "outputs": [
    {
     "name": "stdout",
     "output_type": "stream",
     "text": [
      "Original list: ['Python', 'C++', 'Java', 'JavaScript', 'Ruby']\n",
      "\n",
      "Accessing the first element in the list:\n",
      "Python\n",
      "\n",
      "List after modifying the third element (Java -> C#): ['Python', 'C++', 'Kotline', 'JavaScript', 'Ruby']\n",
      "\n",
      "List after appending a new language (C-Sharp): ['Python', 'C++', 'Kotline', 'JavaScript', 'Ruby', 'C-Sharp']\n",
      "\n",
      "List after inserting a language (Swift) at position 1: ['Python', 'Swift', 'C++', 'Kotline', 'JavaScript', 'Ruby', 'C-Sharp']\n",
      "\n",
      "List after deleting the fourth element (JavaScript): ['Python', 'Swift', 'C++', 'JavaScript', 'Ruby', 'C-Sharp']\n",
      "\n",
      "List after removing an element by value (Ruby): ['Python', 'Swift', 'C++', 'JavaScript', 'C-Sharp']\n",
      "\n",
      "List after popping the last element:\n",
      "['Python', 'Swift', 'C++', 'JavaScript']\n",
      "Popped element: C-Sharp\n",
      "\n",
      "List after popping the third element:\n",
      "['Python', 'Swift', 'JavaScript']\n",
      "Popped element: C++\n",
      "\n",
      "List after sorting alphabetically with sort():\n",
      "['JavaScript', 'Python', 'Swift']\n",
      "\n",
      "List after sorting in reverse alphabetical order with sort(reverse=True):\n",
      "['Swift', 'Python', 'JavaScript']\n",
      "\n",
      "List after reversing the order with reverse():\n",
      "['JavaScript', 'Python', 'Swift']\n"
     ]
    }
   ],
   "source": [
    "# Excersie # 3-9 Every Function:\n",
    "#  Create a list of programming languages\n",
    "languages = [\"Python\", \"C++\", \"Java\", \"JavaScript\", \"Ruby\"]\n",
    "#  Print the original list\n",
    "print(\"Original list:\",languages)\n",
    "#  Access an individual element from the list\n",
    "print(\"\\nAccessing the first element in the list:\")\n",
    "print(languages[0])\n",
    "#  Modify an element in the list\n",
    "languages[2] = \"Kotline\"\n",
    "print(\"\\nList after modifying the third element (Java -> C#):\",languages)\n",
    "#  Add an element to the end of the list using append()\n",
    "languages.append(\"C-Sharp\")\n",
    "print(\"\\nList after appending a new language (C-Sharp):\",languages)\n",
    "#  Insert an element at a specific position in the list\n",
    "languages.insert(1, \"Swift\")\n",
    "print(\"\\nList after inserting a language (Swift) at position 1:\",languages)\n",
    "#  Remove an element from the list using del statement\n",
    "del languages[3]\n",
    "print(\"\\nList after deleting the fourth element (JavaScript):\",languages)\n",
    "#  Remove an element by value using remove()\n",
    "languages.remove(\"Ruby\")\n",
    "print(\"\\nList after removing an element by value (Ruby):\",languages)\n",
    "#  Pop an element from the list and use it\n",
    "popped_language = languages.pop()\n",
    "print(\"\\nList after popping the last element:\")\n",
    "print(languages)\n",
    "print(f\"Popped element: {popped_language}\")\n",
    "#  Pop an element from a specific position in the list\n",
    "popped_language = languages.pop(2)\n",
    "print(\"\\nList after popping the third element:\")\n",
    "print(languages)\n",
    "print(f\"Popped element: {popped_language}\")\n",
    "#  Sort the list alphabetically with sort()\n",
    "languages.sort()\n",
    "print(\"\\nList after sorting alphabetically with sort():\")\n",
    "print(languages)\n",
    "#  Sort the list in reverse alphabetical order with sort(reverse=True)\n",
    "languages.sort(reverse=True)\n",
    "print(\"\\nList after sorting in reverse alphabetical order with sort(reverse=True):\")\n",
    "print(languages)\n",
    "#  Reverse the order of the list with reverse()\n",
    "languages.reverse()\n",
    "print(\"\\nList after reversing the order with reverse():\")\n",
    "print(languages)"
   ]
  },
  {
   "cell_type": "code",
   "execution_count": 20,
   "metadata": {},
   "outputs": [],
   "source": [
    "# Excersie # 3-10 Intentional Error:\n",
    "lang = [\"Python\", \"C++\", \"Java\", \"JavaScript\", \"Ruby\"]\n",
    "# print(lang[6])   #Error occur because index{6} does not exist\n"
   ]
  }
 ],
 "metadata": {
  "kernelspec": {
   "display_name": "Python 3",
   "language": "python",
   "name": "python3"
  },
  "language_info": {
   "codemirror_mode": {
    "name": "ipython",
    "version": 3
   },
   "file_extension": ".py",
   "mimetype": "text/x-python",
   "name": "python",
   "nbconvert_exporter": "python",
   "pygments_lexer": "ipython3",
   "version": "3.12.4"
  }
 },
 "nbformat": 4,
 "nbformat_minor": 2
}
